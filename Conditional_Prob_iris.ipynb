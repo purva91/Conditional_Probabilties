{
 "cells": [
  {
   "cell_type": "code",
   "execution_count": 1,
   "metadata": {
    "slideshow": {
     "slide_type": "slide"
    }
   },
   "outputs": [],
   "source": [
    "import pandas as pd"
   ]
  },
  {
   "cell_type": "code",
   "execution_count": 3,
   "metadata": {
    "slideshow": {
     "slide_type": "slide"
    }
   },
   "outputs": [
    {
     "data": {
      "text/html": [
       "<div>\n",
       "<style scoped>\n",
       "    .dataframe tbody tr th:only-of-type {\n",
       "        vertical-align: middle;\n",
       "    }\n",
       "\n",
       "    .dataframe tbody tr th {\n",
       "        vertical-align: top;\n",
       "    }\n",
       "\n",
       "    .dataframe thead th {\n",
       "        text-align: right;\n",
       "    }\n",
       "</style>\n",
       "<table border=\"1\" class=\"dataframe\">\n",
       "  <thead>\n",
       "    <tr style=\"text-align: right;\">\n",
       "      <th></th>\n",
       "      <th>Id</th>\n",
       "      <th>SepalLengthCm</th>\n",
       "      <th>SepalWidthCm</th>\n",
       "      <th>PetalLengthCm</th>\n",
       "      <th>PetalWidthCm</th>\n",
       "      <th>Species</th>\n",
       "    </tr>\n",
       "  </thead>\n",
       "  <tbody>\n",
       "    <tr>\n",
       "      <th>0</th>\n",
       "      <td>1</td>\n",
       "      <td>5.1</td>\n",
       "      <td>3.5</td>\n",
       "      <td>1.4</td>\n",
       "      <td>0.2</td>\n",
       "      <td>Iris-setosa</td>\n",
       "    </tr>\n",
       "    <tr>\n",
       "      <th>1</th>\n",
       "      <td>2</td>\n",
       "      <td>4.9</td>\n",
       "      <td>3.0</td>\n",
       "      <td>1.4</td>\n",
       "      <td>0.2</td>\n",
       "      <td>Iris-setosa</td>\n",
       "    </tr>\n",
       "    <tr>\n",
       "      <th>2</th>\n",
       "      <td>3</td>\n",
       "      <td>4.7</td>\n",
       "      <td>3.2</td>\n",
       "      <td>1.3</td>\n",
       "      <td>0.2</td>\n",
       "      <td>Iris-setosa</td>\n",
       "    </tr>\n",
       "    <tr>\n",
       "      <th>3</th>\n",
       "      <td>4</td>\n",
       "      <td>4.6</td>\n",
       "      <td>3.1</td>\n",
       "      <td>1.5</td>\n",
       "      <td>0.2</td>\n",
       "      <td>Iris-setosa</td>\n",
       "    </tr>\n",
       "    <tr>\n",
       "      <th>4</th>\n",
       "      <td>5</td>\n",
       "      <td>5.0</td>\n",
       "      <td>3.6</td>\n",
       "      <td>1.4</td>\n",
       "      <td>0.2</td>\n",
       "      <td>Iris-setosa</td>\n",
       "    </tr>\n",
       "  </tbody>\n",
       "</table>\n",
       "</div>"
      ],
      "text/plain": [
       "   Id  SepalLengthCm  SepalWidthCm  PetalLengthCm  PetalWidthCm      Species\n",
       "0   1            5.1           3.5            1.4           0.2  Iris-setosa\n",
       "1   2            4.9           3.0            1.4           0.2  Iris-setosa\n",
       "2   3            4.7           3.2            1.3           0.2  Iris-setosa\n",
       "3   4            4.6           3.1            1.5           0.2  Iris-setosa\n",
       "4   5            5.0           3.6            1.4           0.2  Iris-setosa"
      ]
     },
     "execution_count": 3,
     "metadata": {},
     "output_type": "execute_result"
    }
   ],
   "source": [
    "#importing the iris dataset into a dataframe\n",
    "iris_df = pd.read_csv('Iris.csv')\n",
    "\n",
    "#taking a look at the 1st few values of the dataframe to get a sense of the data\n",
    "iris_df.head()"
   ]
  },
  {
   "cell_type": "code",
   "execution_count": 12,
   "metadata": {},
   "outputs": [
    {
     "name": "stdout",
     "output_type": "stream",
     "text": [
      "Species\n",
      "Iris-setosa        0.333333\n",
      "Iris-versicolor    0.333333\n",
      "Iris-virginica     0.333333\n",
      "dtype: float64\n"
     ]
    }
   ],
   "source": [
    "#This gives the probabilities of all the Species\n",
    "Species_groupby_size = iris_df.groupby('Species').size()\n",
    "Species_probs = Species_groupby_size.div(len(iris_df))\n",
    "print(Species_probs)\n"
   ]
  },
  {
   "cell_type": "code",
   "execution_count": 13,
   "metadata": {},
   "outputs": [
    {
     "name": "stdout",
     "output_type": "stream",
     "text": [
      "SepalLengthCm  Species        \n",
      "4.3            Iris-setosa        0.02\n",
      "4.4            Iris-setosa        0.06\n",
      "4.5            Iris-setosa        0.02\n",
      "4.6            Iris-setosa        0.08\n",
      "4.7            Iris-setosa        0.04\n",
      "4.8            Iris-setosa        0.10\n",
      "4.9            Iris-setosa        0.08\n",
      "               Iris-versicolor    0.02\n",
      "               Iris-virginica     0.02\n",
      "5.0            Iris-setosa        0.16\n",
      "               Iris-versicolor    0.04\n",
      "5.1            Iris-setosa        0.16\n",
      "               Iris-versicolor    0.02\n",
      "5.2            Iris-setosa        0.06\n",
      "               Iris-versicolor    0.02\n",
      "5.3            Iris-setosa        0.02\n",
      "5.4            Iris-setosa        0.10\n",
      "               Iris-versicolor    0.02\n",
      "5.5            Iris-setosa        0.04\n",
      "               Iris-versicolor    0.10\n",
      "5.6            Iris-versicolor    0.10\n",
      "               Iris-virginica     0.02\n",
      "5.7            Iris-setosa        0.04\n",
      "               Iris-versicolor    0.10\n",
      "               Iris-virginica     0.02\n",
      "5.8            Iris-setosa        0.02\n",
      "               Iris-versicolor    0.06\n",
      "               Iris-virginica     0.06\n",
      "5.9            Iris-versicolor    0.04\n",
      "               Iris-virginica     0.02\n",
      "6.0            Iris-versicolor    0.08\n",
      "               Iris-virginica     0.04\n",
      "6.1            Iris-versicolor    0.08\n",
      "               Iris-virginica     0.04\n",
      "6.2            Iris-versicolor    0.04\n",
      "               Iris-virginica     0.04\n",
      "6.3            Iris-versicolor    0.06\n",
      "               Iris-virginica     0.12\n",
      "6.4            Iris-versicolor    0.04\n",
      "               Iris-virginica     0.10\n",
      "6.5            Iris-versicolor    0.02\n",
      "               Iris-virginica     0.08\n",
      "6.6            Iris-versicolor    0.04\n",
      "6.7            Iris-versicolor    0.06\n",
      "               Iris-virginica     0.10\n",
      "6.8            Iris-versicolor    0.02\n",
      "               Iris-virginica     0.04\n",
      "6.9            Iris-versicolor    0.02\n",
      "               Iris-virginica     0.06\n",
      "7.0            Iris-versicolor    0.02\n",
      "7.1            Iris-virginica     0.02\n",
      "7.2            Iris-virginica     0.06\n",
      "7.3            Iris-virginica     0.02\n",
      "7.4            Iris-virginica     0.02\n",
      "7.6            Iris-virginica     0.02\n",
      "7.7            Iris-virginica     0.08\n",
      "7.9            Iris-virginica     0.02\n",
      "dtype: float64\n"
     ]
    }
   ],
   "source": [
    "#Moving on to conditional probabilities\n",
    "Sepal_Species_groupby = iris_df.groupby(['SepalLengthCm', 'Species']).size()\n",
    "\n",
    "#P(A and B)\n",
    "Sepal_and_Species_probs = Sepal_Species_groupby.div(len(iris_df))\n",
    "\n",
    "#P(A | B) = P(A and B)/P(B)\n",
    "Sepal_given_Species_probs = Sepal_and_Species_probs.div(Species_probs, axis = 0, level = 'Species')\n",
    "print(Sepal_given_Species_probs)"
   ]
  },
  {
   "cell_type": "code",
   "execution_count": null,
   "metadata": {},
   "outputs": [],
   "source": []
  }
 ],
 "metadata": {
  "celltoolbar": "Raw Cell Format",
  "kernelspec": {
   "display_name": "Python 3",
   "language": "python",
   "name": "python3"
  },
  "language_info": {
   "codemirror_mode": {
    "name": "ipython",
    "version": 3
   },
   "file_extension": ".py",
   "mimetype": "text/x-python",
   "name": "python",
   "nbconvert_exporter": "python",
   "pygments_lexer": "ipython3",
   "version": "3.6.5"
  }
 },
 "nbformat": 4,
 "nbformat_minor": 2
}
